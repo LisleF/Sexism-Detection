{
 "cells": [
  {
   "cell_type": "markdown",
   "id": "f8d316e6",
   "metadata": {},
   "source": [
    "# Trabalho Final de Processamento de Linguagem Natural\n",
    "by Lisle, Alana e Giovanna"
   ]
  },
  {
   "cell_type": "markdown",
   "id": "46d8d5f4",
   "metadata": {},
   "source": [
    "### Imports"
   ]
  },
  {
   "cell_type": "code",
   "execution_count": 2,
   "id": "1e017fa5",
   "metadata": {},
   "outputs": [],
   "source": [
    "#Imports\n",
    "\n",
    "from sklearn.feature_extraction.text import CountVectorizer\n",
    "from keras.preprocessing.sequence import pad_sequences\n",
    "from sklearn.model_selection import train_test_split\n",
    "from sklearn.linear_model import LogisticRegression\n",
    "from keras.preprocessing.text import Tokenizer\n",
    "from sklearn.preprocessing import LabelEncoder\n",
    "from sklearn.metrics import confusion_matrix\n",
    "from keras.backend import clear_session\n",
    "from keras.models import Sequential\n",
    "import matplotlib.pyplot as plt\n",
    "from keras import layers\n",
    "import pandas as pd\n",
    "\n",
    "%matplotlib inline\n"
   ]
  },
  {
   "cell_type": "code",
   "execution_count": 3,
   "id": "7b20c706",
   "metadata": {},
   "outputs": [
    {
     "name": "stdout",
     "output_type": "stream",
     "text": [
      "2.4.3\n"
     ]
    }
   ],
   "source": [
    "print(keras.__version__)"
   ]
  },
  {
   "cell_type": "markdown",
   "id": "d077977f",
   "metadata": {},
   "source": [
    "### Funcoes uteis"
   ]
  },
  {
   "cell_type": "code",
   "execution_count": 84,
   "id": "b5046d2a",
   "metadata": {},
   "outputs": [],
   "source": [
    "def writeToText(text, name):\n",
    "    f = open(name, 'a+')\n",
    "    f.write(text)\n",
    "    f.close()"
   ]
  },
  {
   "cell_type": "code",
   "execution_count": 85,
   "id": "beca5565",
   "metadata": {},
   "outputs": [],
   "source": [
    "plt.style.use('ggplot')\n",
    "\n",
    "def plot_history(history):\n",
    "    acc = history.history['accuracy']\n",
    "    val_acc = history.history['val_accuracy']\n",
    "    loss = history.history['loss']\n",
    "    val_loss = history.history['val_loss']\n",
    "    x = range(1, len(acc) + 1)\n",
    "\n",
    "    plt.figure(figsize=(12, 5))\n",
    "    plt.subplot(1, 2, 1)\n",
    "    plt.plot(x, acc, 'b', label='Training acc')\n",
    "    plt.plot(x, val_acc, 'r', label='Validation acc')\n",
    "    plt.title('Training and validation accuracy')\n",
    "    plt.legend()\n",
    "    plt.subplot(1, 2, 2)\n",
    "    plt.plot(x, loss, 'b', label='Training loss')\n",
    "    plt.plot(x, val_loss, 'r', label='Validation loss')\n",
    "    plt.title('Training and validation loss')\n",
    "    plt.legend()"
   ]
  },
  {
   "cell_type": "markdown",
   "id": "f90ffe48",
   "metadata": {},
   "source": [
    "### Carregando dados "
   ]
  },
  {
   "cell_type": "code",
   "execution_count": 86,
   "id": "1286387b",
   "metadata": {},
   "outputs": [],
   "source": [
    "## Loading data\n",
    "\n",
    "df = pd.read_csv('balanced_dataset.csv')\n",
    "\n",
    "text = df['Text'].values.tolist()\n",
    "label = df['Label'].values.tolist()\n"
   ]
  },
  {
   "cell_type": "markdown",
   "id": "0554e088",
   "metadata": {},
   "source": [
    "### Train test split"
   ]
  },
  {
   "cell_type": "code",
   "execution_count": 87,
   "id": "a2cd906e",
   "metadata": {},
   "outputs": [],
   "source": [
    "tweets = df['Text'].values\n",
    "y = df['Label'].values\n",
    "\n",
    "tweets_train, tweets_test, y_train, y_test = train_test_split(tweets, y, test_size = 0.25, random_state=1000)\n",
    "tweets_train, tweets_val, y_train, y_val =  train_test_split(tweets_train, y_train, test_size = 0.25, random_state=1000)"
   ]
  },
  {
   "cell_type": "markdown",
   "id": "60f0d214",
   "metadata": {},
   "source": [
    "### Vetorizando dados"
   ]
  },
  {
   "cell_type": "code",
   "execution_count": 88,
   "id": "2e3b8567",
   "metadata": {},
   "outputs": [
    {
     "data": {
      "text/plain": [
       "<1949x6619 sparse matrix of type '<class 'numpy.int64'>'\n",
       "\twith 26346 stored elements in Compressed Sparse Row format>"
      ]
     },
     "execution_count": 88,
     "metadata": {},
     "output_type": "execute_result"
    }
   ],
   "source": [
    "## Vectorize sentences\n",
    "\n",
    "vectorizer = CountVectorizer(min_df=0, lowercase=False)\n",
    "vectorizer.fit(tweets_train)\n",
    "\n",
    "X_train = vectorizer.transform(tweets_train)\n",
    "X_test = vectorizer.transform(tweets_test)\n",
    "X_val = vectorizer.transform(tweets_val)\n",
    "\n",
    "X_train"
   ]
  },
  {
   "cell_type": "code",
   "execution_count": 89,
   "id": "a31474e4",
   "metadata": {
    "scrolled": false
   },
   "outputs": [
    {
     "data": {
      "text/plain": [
       "array([[0, 0, 0, ..., 0, 0, 0],\n",
       "       [0, 0, 0, ..., 0, 0, 0],\n",
       "       [0, 0, 0, ..., 0, 0, 0],\n",
       "       ...,\n",
       "       [0, 0, 0, ..., 0, 0, 0],\n",
       "       [0, 0, 0, ..., 0, 0, 0],\n",
       "       [0, 0, 0, ..., 0, 0, 0]], dtype=int64)"
      ]
     },
     "execution_count": 89,
     "metadata": {},
     "output_type": "execute_result"
    }
   ],
   "source": [
    "vectorizer.transform(text).toarray()"
   ]
  },
  {
   "cell_type": "markdown",
   "id": "283f2002",
   "metadata": {},
   "source": [
    "### Implementando classificador linear"
   ]
  },
  {
   "cell_type": "code",
   "execution_count": 90,
   "id": "bc559d6b",
   "metadata": {},
   "outputs": [
    {
     "name": "stdout",
     "output_type": "stream",
     "text": [
      "Accuracy:  0.9238754325259516\n"
     ]
    }
   ],
   "source": [
    "classifier = LogisticRegression()\n",
    "classifier.fit(X_train, y_train)\n",
    "\n",
    "score = classifier.score(X_test, y_test)\n",
    "\n",
    "print(\"Accuracy: \", score)"
   ]
  },
  {
   "cell_type": "code",
   "execution_count": 91,
   "id": "3e1c84d0",
   "metadata": {},
   "outputs": [
    {
     "name": "stdout",
     "output_type": "stream",
     "text": [
      "Acuracia: 0.9238754325259516, Sensibilidade: 0.8771498771498771, Precisao: 0.9571045576407506, Especificidade: 0.9652173913043478, F1-score: 0.9153846153846154\n"
     ]
    },
    {
     "data": {
      "text/plain": [
       "array([[444,  16],\n",
       "       [ 50, 357]], dtype=int64)"
      ]
     },
     "execution_count": 91,
     "metadata": {},
     "output_type": "execute_result"
    }
   ],
   "source": [
    "y_pred = classifier.predict(X_test)\n",
    "\n",
    "m = confusion_matrix(y_test, y_pred, labels=[0, 1])\n",
    "tp = m[1,1]\n",
    "fn = m[1,0]\n",
    "tn = m[0,0]\n",
    "fp = m[0,1]\n",
    "\n",
    "acc = (tp + tn)/(tp + tn + fp + fn)\n",
    "sen = tp/(tp + fn)\n",
    "pre = tp/(tp + fp)\n",
    "esp = tn/(tn + fp)\n",
    "f1 = (2*pre*sen)/(pre+sen)\n",
    "\n",
    "print(\"Acuracia: \" + str(acc) + \", Sensibilidade: \" + str(sen) + \", Precisao: \" + str(pre) + \", Especificidade: \" + str(esp) + \", F1-score: \" + str(f1))\n",
    "writeToText(\"Regressao Logistica\\n\" + \"Acuracia: \" + str(acc) + \", Sensibilidade: \" + str(sen) + \", Precisao: \" + str(pre) + \", Especificidade: \" + str(esp) + \", F1-score: \" + str(f1) + '\\n',\n",
    "           'results.txt')\n",
    "m"
   ]
  },
  {
   "cell_type": "markdown",
   "id": "7e615894",
   "metadata": {},
   "source": [
    "### Implementando model deep"
   ]
  },
  {
   "cell_type": "code",
   "execution_count": 92,
   "id": "8ea23036",
   "metadata": {},
   "outputs": [],
   "source": [
    "input_dim = X_train.shape[1] #Numero de features\n",
    "\n",
    "model = Sequential()\n",
    "model.add(layers.Dense(10, input_dim = input_dim, activation = 'relu'))\n",
    "model.add(layers.Dense(1, activation = 'sigmoid'))"
   ]
  },
  {
   "cell_type": "code",
   "execution_count": 93,
   "id": "a8f51a63",
   "metadata": {
    "scrolled": true
   },
   "outputs": [
    {
     "name": "stdout",
     "output_type": "stream",
     "text": [
      "Model: \"sequential_5\"\n",
      "_________________________________________________________________\n",
      "Layer (type)                 Output Shape              Param #   \n",
      "=================================================================\n",
      "dense_8 (Dense)              (None, 10)                66200     \n",
      "_________________________________________________________________\n",
      "dense_9 (Dense)              (None, 1)                 11        \n",
      "=================================================================\n",
      "Total params: 66,211\n",
      "Trainable params: 66,211\n",
      "Non-trainable params: 0\n",
      "_________________________________________________________________\n"
     ]
    }
   ],
   "source": [
    "model.compile(loss='binary_crossentropy', optimizer='adam', metrics=['accuracy'])\n",
    "model.summary()"
   ]
  },
  {
   "cell_type": "code",
   "execution_count": 94,
   "id": "2c26c949",
   "metadata": {},
   "outputs": [],
   "source": [
    "## Para limpar pesos do modelo\n",
    "#clear_session()"
   ]
  },
  {
   "cell_type": "code",
   "execution_count": 95,
   "id": "a734797d",
   "metadata": {},
   "outputs": [],
   "source": [
    "h = model.fit(X_train, y_train,\n",
    "             epochs = 100,\n",
    "             verbose = False,\n",
    "             validation_data = (X_val, y_val),\n",
    "             batch_size = 10)"
   ]
  },
  {
   "cell_type": "code",
   "execution_count": 96,
   "id": "827e78b5",
   "metadata": {},
   "outputs": [
    {
     "name": "stdout",
     "output_type": "stream",
     "text": [
      "Acuracia: 0.916955017301038, Sensibilidade: 0.8697788697788698, Precisao: 0.9490616621983914, Especificidade: 0.9586956521739131, F1-score: 0.9076923076923077\n"
     ]
    },
    {
     "data": {
      "text/plain": [
       "array([[441,  19],\n",
       "       [ 53, 354]], dtype=int64)"
      ]
     },
     "execution_count": 96,
     "metadata": {},
     "output_type": "execute_result"
    }
   ],
   "source": [
    "y_pred = model.predict_classes(X_test)\n",
    "\n",
    "m = confusion_matrix(y_test, y_pred, labels=[0, 1])\n",
    "tp = m[1,1]\n",
    "fn = m[1,0]\n",
    "tn = m[0,0]\n",
    "fp = m[0,1]\n",
    "\n",
    "acc = (tp + tn)/(tp + tn + fp + fn)\n",
    "sen = tp/(tp + fn)\n",
    "pre = tp/(tp + fp)\n",
    "esp = tn/(tn + fp)\n",
    "f1 = (2*pre*sen)/(pre+sen)\n",
    "\n",
    "writeToText(\"One layer deep\\n\" + \"Acuracia: \" + str(acc) + \", Sensibilidade: \" + str(sen) + \", Precisao: \" + str(pre) + \", Especificidade: \" + str(esp) + \", F1-score: \" + str(f1) + '\\n',\n",
    "           'results.txt')\n",
    "print(\"Acuracia: \" + str(acc) + \", Sensibilidade: \" + str(sen) + \", Precisao: \" + str(pre) + \", Especificidade: \" + str(esp) + \", F1-score: \" + str(f1))\n",
    "m"
   ]
  },
  {
   "cell_type": "code",
   "execution_count": 97,
   "id": "ea4c2e97",
   "metadata": {
    "scrolled": false
   },
   "outputs": [
    {
     "data": {
      "image/png": "[encoded data removed]",
      "text/plain": [
       "<Figure size 864x360 with 2 Axes>"
      ]
     },
     "metadata": {},
     "output_type": "display_data"
    }
   ],
   "source": [
    "plot_history(h)"
   ]
  },
  {
   "cell_type": "markdown",
   "id": "2d8a471b",
   "metadata": {},
   "source": [
    "### Implementando CNN"
   ]
  },
  {
   "cell_type": "code",
   "execution_count": 102,
   "id": "c1e17f08",
   "metadata": {},
   "outputs": [
    {
     "name": "stdout",
     "output_type": "stream",
     "text": [
      "HAPPY FUCKING BIRTHDAY YA PONGO! :)\n",
      "[443, 64, 1263, 214, 2080]\n"
     ]
    }
   ],
   "source": [
    "\n",
    "tokenizer = Tokenizer(num_words=5000)\n",
    "tokenizer.fit_on_texts(tweets_train)\n",
    "\n",
    "X_train = tokenizer.texts_to_sequences(tweets_train)\n",
    "X_test = tokenizer.texts_to_sequences(tweets_test)\n",
    "X_val = tokenizer.texts_to_sequences(tweets_val)\n",
    "\n",
    "vocab_size = len(tokenizer.word_index) + 1  # Adding 1 because of reserved 0 index\n",
    "\n",
    "print(tweets_train[2])\n",
    "print(X_train[2])"
   ]
  },
  {
   "cell_type": "code",
   "execution_count": 105,
   "id": "0497237c",
   "metadata": {},
   "outputs": [],
   "source": [
    "maxlen = 100\n",
    "\n",
    "X_train = pad_sequences(X_train, padding='post', maxlen=maxlen)\n",
    "X_test = pad_sequences(X_test, padding='post', maxlen=maxlen)"
   ]
  },
  {
   "cell_type": "code",
   "execution_count": 118,
   "id": "c16983fb",
   "metadata": {},
   "outputs": [
    {
     "name": "stdout",
     "output_type": "stream",
     "text": [
      "Model: \"sequential_11\"\n",
      "_________________________________________________________________\n",
      "Layer (type)                 Output Shape              Param #   \n",
      "=================================================================\n",
      "embedding_3 (Embedding)      (None, 100, 100)          608400    \n",
      "_________________________________________________________________\n",
      "conv1d_3 (Conv1D)            (None, 96, 128)           64128     \n",
      "_________________________________________________________________\n",
      "global_max_pooling1d_3 (Glob (None, 128)               0         \n",
      "_________________________________________________________________\n",
      "dense_16 (Dense)             (None, 10)                1290      \n",
      "_________________________________________________________________\n",
      "dense_17 (Dense)             (None, 1)                 11        \n",
      "=================================================================\n",
      "Total params: 673,829\n",
      "Trainable params: 673,829\n",
      "Non-trainable params: 0\n",
      "_________________________________________________________________\n"
     ]
    }
   ],
   "source": [
    "\n",
    "embedding_dim = 100\n",
    "\n",
    "cnn = Sequential()\n",
    "cnn.add(layers.Embedding(vocab_size, embedding_dim, input_length=maxlen))\n",
    "cnn.add(layers.Conv1D(128, 5, activation='relu'))\n",
    "cnn.add(layers.GlobalMaxPooling1D())\n",
    "cnn.add(layers.Dense(10, activation='relu'))\n",
    "cnn.add(layers.Dense(1, activation='sigmoid'))\n",
    "\n",
    "cnn.compile(optimizer='adam',\n",
    "              loss='binary_crossentropy',\n",
    "              metrics=['accuracy'])\n",
    "cnn.summary()"
   ]
  },
  {
   "cell_type": "code",
   "execution_count": 119,
   "id": "9192b1f2",
   "metadata": {},
   "outputs": [
    {
     "ename": "ValueError",
     "evalue": "Failed to find data adapter that can handle input: (<class 'list'> containing values of types {\"(<class 'list'> containing values of types set())\", '(<class \\'list\\'> containing values of types {\"<class \\'int\\'>\"})'}), <class 'numpy.ndarray'>",
     "output_type": "error",
     "traceback": [
      "\u001b[1;31m---------------------------------------------------------------------------\u001b[0m",
      "\u001b[1;31mValueError\u001b[0m                                Traceback (most recent call last)",
      "\u001b[1;32m<ipython-input-119-c369c1249cd2>\u001b[0m in \u001b[0;36m<module>\u001b[1;34m\u001b[0m\n\u001b[1;32m----> 1\u001b[1;33m h = cnn.fit(X_train, y_train,\n\u001b[0m\u001b[0;32m      2\u001b[0m                     \u001b[0mepochs\u001b[0m\u001b[1;33m=\u001b[0m\u001b[1;36m20\u001b[0m\u001b[1;33m,\u001b[0m\u001b[1;33m\u001b[0m\u001b[1;33m\u001b[0m\u001b[0m\n\u001b[0;32m      3\u001b[0m                     \u001b[0mverbose\u001b[0m\u001b[1;33m=\u001b[0m\u001b[1;32mFalse\u001b[0m\u001b[1;33m,\u001b[0m\u001b[1;33m\u001b[0m\u001b[1;33m\u001b[0m\u001b[0m\n\u001b[0;32m      4\u001b[0m                     \u001b[0mvalidation_data\u001b[0m\u001b[1;33m=\u001b[0m\u001b[1;33m(\u001b[0m\u001b[0mX_val\u001b[0m\u001b[1;33m,\u001b[0m \u001b[0my_val\u001b[0m\u001b[1;33m)\u001b[0m\u001b[1;33m,\u001b[0m\u001b[1;33m\u001b[0m\u001b[1;33m\u001b[0m\u001b[0m\n\u001b[0;32m      5\u001b[0m                     batch_size=10)\n",
      "\u001b[1;32mD:\\Aplicativos\\Anaconda\\envs\\pln\\lib\\site-packages\\tensorflow\\python\\keras\\engine\\training.py\u001b[0m in \u001b[0;36m_method_wrapper\u001b[1;34m(self, *args, **kwargs)\u001b[0m\n\u001b[0;32m    106\u001b[0m   \u001b[1;32mdef\u001b[0m \u001b[0m_method_wrapper\u001b[0m\u001b[1;33m(\u001b[0m\u001b[0mself\u001b[0m\u001b[1;33m,\u001b[0m \u001b[1;33m*\u001b[0m\u001b[0margs\u001b[0m\u001b[1;33m,\u001b[0m \u001b[1;33m**\u001b[0m\u001b[0mkwargs\u001b[0m\u001b[1;33m)\u001b[0m\u001b[1;33m:\u001b[0m\u001b[1;33m\u001b[0m\u001b[1;33m\u001b[0m\u001b[0m\n\u001b[0;32m    107\u001b[0m     \u001b[1;32mif\u001b[0m \u001b[1;32mnot\u001b[0m \u001b[0mself\u001b[0m\u001b[1;33m.\u001b[0m\u001b[0m_in_multi_worker_mode\u001b[0m\u001b[1;33m(\u001b[0m\u001b[1;33m)\u001b[0m\u001b[1;33m:\u001b[0m  \u001b[1;31m# pylint: disable=protected-access\u001b[0m\u001b[1;33m\u001b[0m\u001b[1;33m\u001b[0m\u001b[0m\n\u001b[1;32m--> 108\u001b[1;33m       \u001b[1;32mreturn\u001b[0m \u001b[0mmethod\u001b[0m\u001b[1;33m(\u001b[0m\u001b[0mself\u001b[0m\u001b[1;33m,\u001b[0m \u001b[1;33m*\u001b[0m\u001b[0margs\u001b[0m\u001b[1;33m,\u001b[0m \u001b[1;33m**\u001b[0m\u001b[0mkwargs\u001b[0m\u001b[1;33m)\u001b[0m\u001b[1;33m\u001b[0m\u001b[1;33m\u001b[0m\u001b[0m\n\u001b[0m\u001b[0;32m    109\u001b[0m \u001b[1;33m\u001b[0m\u001b[0m\n\u001b[0;32m    110\u001b[0m     \u001b[1;31m# Running inside `run_distribute_coordinator` already.\u001b[0m\u001b[1;33m\u001b[0m\u001b[1;33m\u001b[0m\u001b[1;33m\u001b[0m\u001b[0m\n",
      "\u001b[1;32mD:\\Aplicativos\\Anaconda\\envs\\pln\\lib\\site-packages\\tensorflow\\python\\keras\\engine\\training.py\u001b[0m in \u001b[0;36mfit\u001b[1;34m(self, x, y, batch_size, epochs, verbose, callbacks, validation_split, validation_data, shuffle, class_weight, sample_weight, initial_epoch, steps_per_epoch, validation_steps, validation_batch_size, validation_freq, max_queue_size, workers, use_multiprocessing)\u001b[0m\n\u001b[0;32m   1108\u001b[0m           \u001b[1;31m# Create data_handler for evaluation and cache it.\u001b[0m\u001b[1;33m\u001b[0m\u001b[1;33m\u001b[0m\u001b[1;33m\u001b[0m\u001b[0m\n\u001b[0;32m   1109\u001b[0m           \u001b[1;32mif\u001b[0m \u001b[0mgetattr\u001b[0m\u001b[1;33m(\u001b[0m\u001b[0mself\u001b[0m\u001b[1;33m,\u001b[0m \u001b[1;34m'_eval_data_handler'\u001b[0m\u001b[1;33m,\u001b[0m \u001b[1;32mNone\u001b[0m\u001b[1;33m)\u001b[0m \u001b[1;32mis\u001b[0m \u001b[1;32mNone\u001b[0m\u001b[1;33m:\u001b[0m\u001b[1;33m\u001b[0m\u001b[1;33m\u001b[0m\u001b[0m\n\u001b[1;32m-> 1110\u001b[1;33m             self._eval_data_handler = data_adapter.DataHandler(\n\u001b[0m\u001b[0;32m   1111\u001b[0m                 \u001b[0mx\u001b[0m\u001b[1;33m=\u001b[0m\u001b[0mval_x\u001b[0m\u001b[1;33m,\u001b[0m\u001b[1;33m\u001b[0m\u001b[1;33m\u001b[0m\u001b[0m\n\u001b[0;32m   1112\u001b[0m                 \u001b[0my\u001b[0m\u001b[1;33m=\u001b[0m\u001b[0mval_y\u001b[0m\u001b[1;33m,\u001b[0m\u001b[1;33m\u001b[0m\u001b[1;33m\u001b[0m\u001b[0m\n",
      "\u001b[1;32mD:\\Aplicativos\\Anaconda\\envs\\pln\\lib\\site-packages\\tensorflow\\python\\keras\\engine\\data_adapter.py\u001b[0m in \u001b[0;36m__init__\u001b[1;34m(self, x, y, sample_weight, batch_size, steps_per_epoch, initial_epoch, epochs, shuffle, class_weight, max_queue_size, workers, use_multiprocessing, model, steps_per_execution)\u001b[0m\n\u001b[0;32m   1102\u001b[0m       \u001b[0mself\u001b[0m\u001b[1;33m.\u001b[0m\u001b[0m_steps_per_execution_value\u001b[0m \u001b[1;33m=\u001b[0m \u001b[0msteps_per_execution\u001b[0m\u001b[1;33m.\u001b[0m\u001b[0mnumpy\u001b[0m\u001b[1;33m(\u001b[0m\u001b[1;33m)\u001b[0m\u001b[1;33m.\u001b[0m\u001b[0mitem\u001b[0m\u001b[1;33m(\u001b[0m\u001b[1;33m)\u001b[0m\u001b[1;33m\u001b[0m\u001b[1;33m\u001b[0m\u001b[0m\n\u001b[0;32m   1103\u001b[0m \u001b[1;33m\u001b[0m\u001b[0m\n\u001b[1;32m-> 1104\u001b[1;33m     \u001b[0madapter_cls\u001b[0m \u001b[1;33m=\u001b[0m \u001b[0mselect_data_adapter\u001b[0m\u001b[1;33m(\u001b[0m\u001b[0mx\u001b[0m\u001b[1;33m,\u001b[0m \u001b[0my\u001b[0m\u001b[1;33m)\u001b[0m\u001b[1;33m\u001b[0m\u001b[1;33m\u001b[0m\u001b[0m\n\u001b[0m\u001b[0;32m   1105\u001b[0m     self._adapter = adapter_cls(\n\u001b[0;32m   1106\u001b[0m         \u001b[0mx\u001b[0m\u001b[1;33m,\u001b[0m\u001b[1;33m\u001b[0m\u001b[1;33m\u001b[0m\u001b[0m\n",
      "\u001b[1;32mD:\\Aplicativos\\Anaconda\\envs\\pln\\lib\\site-packages\\tensorflow\\python\\keras\\engine\\data_adapter.py\u001b[0m in \u001b[0;36mselect_data_adapter\u001b[1;34m(x, y)\u001b[0m\n\u001b[0;32m    966\u001b[0m   \u001b[1;32mif\u001b[0m \u001b[1;32mnot\u001b[0m \u001b[0madapter_cls\u001b[0m\u001b[1;33m:\u001b[0m\u001b[1;33m\u001b[0m\u001b[1;33m\u001b[0m\u001b[0m\n\u001b[0;32m    967\u001b[0m     \u001b[1;31m# TODO(scottzhu): This should be a less implementation-specific error.\u001b[0m\u001b[1;33m\u001b[0m\u001b[1;33m\u001b[0m\u001b[1;33m\u001b[0m\u001b[0m\n\u001b[1;32m--> 968\u001b[1;33m     raise ValueError(\n\u001b[0m\u001b[0;32m    969\u001b[0m         \u001b[1;34m\"Failed to find data adapter that can handle \"\u001b[0m\u001b[1;33m\u001b[0m\u001b[1;33m\u001b[0m\u001b[0m\n\u001b[0;32m    970\u001b[0m         \"input: {}, {}\".format(\n",
      "\u001b[1;31mValueError\u001b[0m: Failed to find data adapter that can handle input: (<class 'list'> containing values of types {\"(<class 'list'> containing values of types set())\", '(<class \\'list\\'> containing values of types {\"<class \\'int\\'>\"})'}), <class 'numpy.ndarray'>"
     ]
    }
   ],
   "source": [
    "h = cnn.fit(X_train, y_train,\n",
    "                    epochs=20,\n",
    "                    verbose=False,\n",
    "                    validation_data=(X_val, y_val),\n",
    "                    batch_size=10)"
   ]
  },
  {
   "cell_type": "code",
   "execution_count": 112,
   "id": "350f6d2a",
   "metadata": {
    "scrolled": true
   },
   "outputs": [
    {
     "name": "stdout",
     "output_type": "stream",
     "text": [
      "Acuracia: 0.9319492502883506, Sensibilidade: 0.8845208845208845, Precisao: 0.967741935483871, Especificidade: 0.9739130434782609, F1-score: 0.9242618741976893\n"
     ]
    },
    {
     "data": {
      "text/plain": [
       "array([[448,  12],\n",
       "       [ 47, 360]], dtype=int64)"
      ]
     },
     "execution_count": 112,
     "metadata": {},
     "output_type": "execute_result"
    }
   ],
   "source": [
    "y_pred = cnn.predict_classes(X_test)\n",
    "\n",
    "m = confusion_matrix(y_test, y_pred, labels=[0, 1])\n",
    "tp = m[1,1]\n",
    "fn = m[1,0]\n",
    "tn = m[0,0]\n",
    "fp = m[0,1]\n",
    "\n",
    "acc = (tp + tn)/(tp + tn + fp + fn)\n",
    "sen = tp/(tp + fn)\n",
    "pre = tp/(tp + fp)\n",
    "esp = tn/(tn + fp)\n",
    "f1 = (2*pre*sen)/(pre+sen)\n",
    "\n",
    "writeToText(\"CNN\\n\" + \"Acuracia: \" + str(acc) + \", Sensibilidade: \" + str(sen) + \", Precisao: \" + str(pre) + \", Especificidade: \" + str(esp) + \", F1-score: \" + str(f1) + '\\n',\n",
    "           'results.txt')\n",
    "print(\"Acuracia: \" + str(acc) + \", Sensibilidade: \" + str(sen) + \", Precisao: \" + str(pre) + \", Especificidade: \" + str(esp) + \", F1-score: \" + str(f1))\n",
    "m"
   ]
  },
  {
   "cell_type": "code",
   "execution_count": 113,
   "id": "814efd0d",
   "metadata": {},
   "outputs": [
    {
     "data": {
      "image/png": "[encoded data removed]",
      "text/plain": [
       "<Figure size 864x360 with 2 Axes>"
      ]
     },
     "metadata": {
      "needs_background": "light"
     },
     "output_type": "display_data"
    }
   ],
   "source": [
    "plot_history(h)"
   ]
  }
 ],
 "metadata": {
  "kernelspec": {
   "display_name": "Python 3",
   "language": "python",
   "name": "python3"
  },
  "language_info": {
   "codemirror_mode": {
    "name": "ipython",
    "version": 3
   },
   "file_extension": ".py",
   "mimetype": "text/x-python",
   "name": "python",
   "nbconvert_exporter": "python",
   "pygments_lexer": "ipython3",
   "version": "3.8.5"
  }
 },
 "nbformat": 4,
 "nbformat_minor": 5
}
